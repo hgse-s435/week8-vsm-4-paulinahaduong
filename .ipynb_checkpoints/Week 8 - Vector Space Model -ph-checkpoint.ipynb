{
 "cells": [
  {
   "cell_type": "markdown",
   "metadata": {},
   "source": [
    "# Week 5 - Vector Space Model (VSM) and Topic Modeling"
   ]
  },
  {
   "cell_type": "markdown",
   "metadata": {},
   "source": [
    "Over the next weeks, we are going to re-implement Sherin's algorithm and apply it to the text data we've been working on last week! Here's our roadmap:\n",
    "\n",
    "**Week 8 - Visualizing the results**\n",
    "10. create visualizations to compare documents"
   ]
  },
  {
   "cell_type": "markdown",
   "metadata": {},
   "source": [
    "# WEEK 5 - DATA CLEANING"
   ]
  },
  {
   "cell_type": "markdown",
   "metadata": {},
   "source": [
    "## Step 1 - Data Retrieval"
   ]
  },
  {
   "cell_type": "code",
   "execution_count": 25,
   "metadata": {},
   "outputs": [
    {
     "name": "stdout",
     "output_type": "stream",
     "text": [
      "['./Papers/paper12.txt', './Papers/paper5.txt', './Papers/paper4.txt', './Papers/paper13.txt', './Papers/paper11.txt', './Papers/paper6.txt', './Papers/paper7.txt', './Papers/paper10.txt', './Papers/paper14.txt', './Papers/paper3.txt', './Papers/paper2.txt', './Papers/paper15.txt', './Papers/paper0.txt', './Papers/paper1.txt', './Papers/paper16.txt', './Papers/paper9.txt', './Papers/paper8.txt']\n"
     ]
    }
   ],
   "source": [
    "# using glob, find all the text files in the \"Papers\" folder\n",
    "import glob\n",
    "\n",
    "files = glob.glob('./Papers/*.txt')\n",
    "print(files)"
   ]
  },
  {
   "cell_type": "code",
   "execution_count": 26,
   "metadata": {},
   "outputs": [],
   "source": [
    "# get all the data from the text files into the \"documents\" list\n",
    "# P.S. make sure you use the 'utf-8' encoding\n",
    "documents = []\n",
    "\n",
    "for filename in files: \n",
    "    with open (filename, \"r\", encoding='utf-8') as f:\n",
    "        documents.append(f.read())"
   ]
  },
  {
   "cell_type": "code",
   "execution_count": 27,
   "metadata": {},
   "outputs": [
    {
     "data": {
      "text/plain": [
       "'103\\n\\n\\x0cepistemic network analysis and topic modeling for chat\\ndata from collaborative learning environment\\nzhiqiang cai\\n\\nbrendan eagan\\n\\nnia m. dowell\\n\\nthe university of memphis\\n365 innovation drive, suite 410\\nmemphis, tn, usa\\n\\nuniversity of wisconsin-madison\\n1025 west johnson street\\nmadison, wi, usa\\n\\nthe university of memphis\\n365 innovation drive, suite 410\\nmemphis, tn, usa\\n\\nzcai@memphis.edu\\n\\neaganb@gmail.com\\n\\nniadowell@gmail.com\\n\\njames w. pennebaker\\n\\ndavid w. shaffer\\n\\narthur c. graesser\\n\\nuniversity of texas-austin\\n116 inner campus dr stop g6000\\naustin, tx, usa\\n\\nuniversity of wisconsin-madison\\n1025 west johnson street\\nmadison, wi, usa\\n\\nthe university of memphis\\n365 innovation drive, suite 403\\nmemphis, tn, usa\\n\\npennebaker@utexas.edu\\n\\ndws@education.wisc.edu\\n\\nart.graesser@gmail.com\\n\\nabstract\\nthis study investigates a possible way to analyze chat data from\\ncollaborative learning environments using epistemic network\\nanalysis and topic modeling. a 300-topic general topic model\\nbuilt from tasa (touchstone applied science associates) corpus was used in this study. 300 topic scores for each of the 15,670\\nutterances in our chat data were computed. seven relevant topics\\nwere selected based on the total document scores. while the aggregated topic scores had some power in predicting students’\\nlearning, using epistemic network analysis enables assessing the\\ndata from a different angle. the results showed that the topic\\nscore based epistemic networks between low gain students and\\nhigh gain s'"
      ]
     },
     "execution_count": 27,
     "metadata": {},
     "output_type": "execute_result"
    }
   ],
   "source": [
    "# print the first 1000 characters of the first document to see what it \n",
    "# looks like (we'll use this as a sanity check below)\n",
    "documents[0][:1500]"
   ]
  },
  {
   "cell_type": "markdown",
   "metadata": {},
   "source": [
    "## Step 2 - Data Cleaning"
   ]
  },
  {
   "cell_type": "code",
   "execution_count": 28,
   "metadata": {},
   "outputs": [
    {
     "name": "stdout",
     "output_type": "stream",
     "text": [
      "40387 34778\n",
      "37214 32762\n",
      "44037 40032\n",
      "45258 42251\n",
      "32277 28206\n",
      "47851 41302\n",
      "42617 35102\n",
      "49177 42621\n",
      "40655 32734\n",
      "47377 42978\n",
      "46761 42253\n",
      "31574 28134\n",
      "50043 39318\n",
      "41110 35514\n",
      "42046 37649\n",
      "47845 44059\n",
      "45724 39947\n"
     ]
    }
   ],
   "source": [
    "# only select the text that's between the first occurence of the \n",
    "# the word \"abstract\" and the last occurence of the word \"reference\"\n",
    "# Optional: print the length of the string before and after, as a \n",
    "# sanity check\n",
    "# HINT: https://stackoverflow.com/questions/14496006/finding-last-occurrence-of-substring-in-string-replacing-that\n",
    "# read more about rfind: https://www.tutorialspoint.com/python/string_rfind.htm\n",
    "\n",
    "for i,doc in enumerate(documents):\n",
    "    print(len(documents[i]), end=' ')\n",
    "    # only keep the text after the abstract\n",
    "    doc = doc[doc.index('abstract'):doc.rfind('reference')]\n",
    "    # save the result\n",
    "    documents[i] = doc\n",
    "    # print the length of the resulting string\n",
    "    print(len(documents[i]))\n",
    "    \n",
    "# one liner:\n",
    "# documents = [doc[doc.index('abstract'):doc.rfind('reference')] for doc in documents]"
   ]
  },
  {
   "cell_type": "code",
   "execution_count": 29,
   "metadata": {},
   "outputs": [
    {
     "name": "stdout",
     "output_type": "stream",
     "text": [
      "abstract this study investigates a possible way to analyze chat data from collaborative learning environments using epistemic network analysis and topic modeling. a 300-topic general topic model built from tasa (touchstone applied science associates) corpus was used in this study. 300 topic scores for each of the 15,670 utterances in our chat data were computed. seven relevant topics were selected based on the total document scores. while the aggregated topic scores had some power in predicting students’ learning, using epistemic network analysis enables assessing the data from a different angle. the results showed that the topic score based epistemic networks between low gain students and high gain students were significantly different (𝑡 = 2.00). overall, the results suggest these two analytical approaches provide complementary information and afford new insights into the processes related to successful collaborative interactions.  keywords chat; collaborative learning; topic modelin\n"
     ]
    }
   ],
   "source": [
    "# replace carriage returns (i.e., \"\\n\") with a white space\n",
    "# check that the result looks okay by printing the \n",
    "# first 1000 characters of the 1st doc:\n",
    "\n",
    "documents = [doc.replace('\\n', ' ') for doc in documents]\n",
    "print(documents[0][:1000])"
   ]
  },
  {
   "cell_type": "code",
   "execution_count": 30,
   "metadata": {},
   "outputs": [
    {
     "name": "stdout",
     "output_type": "stream",
     "text": [
      "abstract this study investigates a possible way to analyze chat data from collaborative learning environments using epistemic network analysis and topic modeling  a 300 topic general topic model built from tasa  touchstone applied science associates  corpus was used in this study  300 topic scores for each of the 15 670 utterances in our chat data were computed  seven relevant topics were selected based on the total document scores  while the aggregated topic scores had some power in predicting students  learning  using epistemic network analysis enables assessing the data from a different angle  the results showed that the topic score based epistemic networks between low gain students and high gain students were significantly different  𝑡   2 00   overall  the results suggest these two analytical approaches provide complementary information and afford new insights into the processes related to successful collaborative interactions   keywords chat  collaborative learning  topic modelin\n"
     ]
    }
   ],
   "source": [
    "# replace the punctation below by a white space\n",
    "# check that the result looks okay \n",
    "# (e.g., by print the first 1000 characters of the 1st doc)\n",
    "\n",
    "punctuation = ['.', '...', '!', '#', '\"', '%', '$', \"'\", '&', ')', \n",
    "               '(', '+', '*', '-', ',', '/', '.', ';', ':', '=', \n",
    "               '<', '?', '>', '@', '\",', '\".', '[', ']', '\\\\', ',',\n",
    "               '_', '^', '`', '{', '}', '|', '~', '−', '”', '“', '’']\n",
    "\n",
    "\n",
    "# remove ponctuation\n",
    "for i,doc in enumerate(documents): \n",
    "    for punc in punctuation: \n",
    "        doc = doc.replace(punc, ' ')\n",
    "    documents[i] = doc\n",
    "    \n",
    "print(documents[0][:1000])"
   ]
  },
  {
   "cell_type": "code",
   "execution_count": 31,
   "metadata": {},
   "outputs": [
    {
     "name": "stdout",
     "output_type": "stream",
     "text": [
      "abstract there is a critical need to develop new educational technology applications that analyze the data collected by universities to ensure that students graduate in a timely fashion   to  years   and they are well prepared for jobs in their respective fields of study  in this paper  we present a novel approach for analyzing historical educational records from a large  public university to perform next term grade prediction  i e   to estimate the grades that a student will get in a course that he she will enroll in the next term  accurate next term grade prediction holds the promise for better student degree planning  personalized advising and automated interventions to ensure that students stay on track in their chosen degree program and graduate on time  we present a factorization based approach called matrix factorization with temporal course wise influence that incorporates course wise influence effects and temporal effects for grade prediction  in this model  students and cours\n"
     ]
    }
   ],
   "source": [
    "# remove numbers by either a white space or the word \"number\"\n",
    "# again, print the first 1000 characters of the first document\n",
    "# to check that you're doing the right thing\n",
    "for i,doc in enumerate(documents): \n",
    "    for num in range(10):\n",
    "        doc = doc.replace(str(num), '')\n",
    "    documents[i] = doc\n",
    "\n",
    "print(documents[1][:1000])"
   ]
  },
  {
   "cell_type": "code",
   "execution_count": 32,
   "metadata": {},
   "outputs": [
    {
     "name": "stdout",
     "output_type": "stream",
     "text": [
      "abstract study investigates possible way analyze chat data collaborative learning environments using epistemic network analysis topic modeling   topic general topic model built tasa  touchstone applied science associates  corpus used study   topic scores   utterances chat data computed  seven relevant topics selected based total document scores  aggregated topic scores power predicting students  learning  using epistemic network analysis enables assessing data different angle  results showed topic score based epistemic networks low gain students high gain students significantly different  𝑡       overall  results suggest two analytical approaches provide complementary information afford new insights processes related successful collaborative interactions   keywords chat  collaborative learning  topic modeling  epistemic network analysis    introduction collaborative learning special form learning interaction affords opportunities groups students combine cognitive resources synchronousl\n"
     ]
    }
   ],
   "source": [
    "# Remove the stop words below from our documents\n",
    "# print the first 1000 characters of the first document\n",
    "stop_words = ['i', 'me', 'my', 'myself', 'we', 'our', 'ours', \n",
    "              'ourselves', 'you', 'your', 'yours', 'yourself', \n",
    "              'yourselves', 'he', 'him', 'his', 'himself', 'she', \n",
    "              'her', 'hers', 'herself', 'it', 'its', 'itself', \n",
    "              'they', 'them', 'their', 'theirs', 'themselves', \n",
    "              'what', 'which', 'who', 'whom', 'this', 'that', \n",
    "              'these', 'those', 'am', 'is', 'are', 'was', 'were', \n",
    "              'be', 'been', 'being', 'have', 'has', 'had', 'having', \n",
    "              'do', 'does', 'did', 'doing', 'a', 'an', 'the', 'and', \n",
    "              'but', 'if', 'or', 'because', 'as', 'until', 'while', \n",
    "              'of', 'at', 'by', 'for', 'with', 'about', 'against', \n",
    "              'between', 'into', 'through', 'during', 'before', \n",
    "              'after', 'above', 'below', 'to', 'from', 'up', 'down', \n",
    "              'in', 'out', 'on', 'off', 'over', 'under', 'again', \n",
    "              'further', 'then', 'once', 'here', 'there', 'when', \n",
    "              'where', 'why', 'how', 'all', 'any', 'both', 'each', \n",
    "              'few', 'more', 'most', 'other', 'some', 'such', 'no', \n",
    "              'nor', 'not', 'only', 'own', 'same', 'so', 'than', \n",
    "              'too', 'very', 's', 't', 'can', 'will', \n",
    "              'just', 'don', 'should', 'now']\n",
    "\n",
    "\n",
    "# remove stop words\n",
    "for i,doc in enumerate(documents):\n",
    "    for stop_word in stop_words:\n",
    "        doc = doc.replace(' ' + stop_word + ' ', ' ')\n",
    "    documents[i] = doc\n",
    "\n",
    "print(documents[0][:1000])"
   ]
  },
  {
   "cell_type": "code",
   "execution_count": 33,
   "metadata": {},
   "outputs": [
    {
     "name": "stdout",
     "output_type": "stream",
     "text": [
      "abstract study investigates possible way analyze chat data collaborative learning environments using epistemic network analysis topic modeling topic general topic model built tasa touchstone applied science associates corpus used study topic scores utterances chat data computed seven relevant topics selected based total document scores aggregated topic scores power predicting students learning using epistemic network analysis enables assessing data different angle results showed topic score based epistemic networks low gain students high gain students significantly different overall results suggest two analytical approaches provide complementary information afford new insights processes related successful collaborative interactions keywords chat collaborative learning topic modeling epistemic network analysis introduction collaborative learning special form learning interaction affords opportunities groups students combine cognitive resources synchronously asynchronously participate ta\n"
     ]
    }
   ],
   "source": [
    "# remove words with one and two characters (e.g., 'd', 'er', etc.)\n",
    "# print the first 1000 characters of the first document\n",
    "\n",
    "for i,doc in enumerate(documents):  \n",
    "    doc = [x for x in doc.split() if len(x) > 2]\n",
    "    doc = \" \".join(doc)\n",
    "    documents[i] = doc\n",
    "\n",
    "print(documents[0][:1000])"
   ]
  },
  {
   "cell_type": "markdown",
   "metadata": {},
   "source": [
    "\n",
    "### Putting it all together"
   ]
  },
  {
   "cell_type": "code",
   "execution_count": 34,
   "metadata": {},
   "outputs": [],
   "source": [
    "# package all of your work above into a function that cleans a given document\n",
    "\n",
    "def clean_list_of_documents(documents):\n",
    "    \n",
    "    cleaned_docs = []\n",
    "\n",
    "    for i,doc in enumerate(documents):\n",
    "        # only keep the text after the abstract\n",
    "        doc = doc[doc.index('abstract'):]\n",
    "        # only keep the text before the references\n",
    "        doc = doc[:doc.rfind('reference')]\n",
    "        # replace return carriage with white space\n",
    "        doc = doc.replace('\\n', ' ')\n",
    "        # remove ponctuation\n",
    "        for punc in punctuation: \n",
    "            doc = doc.replace(punc, ' ')\n",
    "        # remove numbers\n",
    "        for i in range(10):\n",
    "            doc = doc.replace(str(i), ' ')\n",
    "        # remove stop words\n",
    "        for stop_word in stop_words:\n",
    "            doc = doc.replace(' ' + stop_word + ' ', ' ')\n",
    "        # remove single characters and stem the words \n",
    "        doc = [x for x in doc.split() if len(x) > 2]\n",
    "        doc = \" \".join(doc)\n",
    "        # save the result to our list of documents\n",
    "        cleaned_docs.append(doc)\n",
    "        \n",
    "    return cleaned_docs"
   ]
  },
  {
   "cell_type": "code",
   "execution_count": 35,
   "metadata": {},
   "outputs": [
    {
     "name": "stdout",
     "output_type": "stream",
     "text": [
      "abstract study investigates possible way analyze chat data collaborative learning environments using epistemic network analysis topic modeling topic general topic model built tasa touchstone applied science associates corpus used study topic scores utterances chat data computed seven relevant topics selected based total document scores aggregated topic scores power predicting students learning using epistemic network analysis enables assessing data different angle results showed topic score based epistemic networks low gain students high gain students significantly different overall results suggest two analytical approaches provide complementary information afford new insights processes related successful collaborative interactions keywords chat collaborative learning topic modeling epistemic network analysis introduction collaborative learning special form learning interaction affords opportunities groups students combine cognitive resources synchronously asynchronously participate ta\n"
     ]
    }
   ],
   "source": [
    "# reimport your raw data\n",
    "documents = []\n",
    "\n",
    "for filename in files: \n",
    "    with open (filename, \"r\", encoding='utf-8') as f:\n",
    "        documents.append(f.read())\n",
    "        \n",
    "# clean your files using the function above\n",
    "docs = clean_list_of_documents(documents)\n",
    "\n",
    "# print the first 1000 characters of the first document\n",
    "print(docs[0][:1000])"
   ]
  },
  {
   "cell_type": "markdown",
   "metadata": {},
   "source": [
    "## Step 3 - Build your list of vocabulary"
   ]
  },
  {
   "cell_type": "markdown",
   "metadata": {},
   "source": [
    "This list of words (i.e., the vocabulary) is going to become the columns of your matrix."
   ]
  },
  {
   "cell_type": "code",
   "execution_count": 36,
   "metadata": {},
   "outputs": [],
   "source": [
    "import math\n",
    "import numpy as np"
   ]
  },
  {
   "cell_type": "code",
   "execution_count": 37,
   "metadata": {},
   "outputs": [
    {
     "name": "stdout",
     "output_type": "stream",
     "text": [
      "5676\n"
     ]
    }
   ],
   "source": [
    "# create a function that takes in a list of documents\n",
    "# and returns a set of unique words. Make sure that you\n",
    "# sort the list alphabetically before returning it. \n",
    "\n",
    "def get_vocabulary(docs):\n",
    "    voc = []\n",
    "    for doc in docs:\n",
    "        for word in doc.split():\n",
    "            if word not in voc: \n",
    "                voc.append(word)\n",
    "    voc = list(set(voc))\n",
    "    voc.sort()\n",
    "    return voc\n",
    "\n",
    "# Then print the length of your vocabulary (it should be \n",
    "# around 5500 words)\n",
    "vocabulary = get_vocabulary(docs)\n",
    "print(len(vocabulary))"
   ]
  },
  {
   "cell_type": "markdown",
   "metadata": {},
   "source": [
    "## Step 4 - transform your documents in to 100-words chunks"
   ]
  },
  {
   "cell_type": "code",
   "execution_count": 38,
   "metadata": {},
   "outputs": [],
   "source": [
    "# create a function that takes in a list of documents\n",
    "# and returns a list of 100-words chunk \n",
    "# (with a 25 words overlap between them)\n",
    "# Optional: add two arguments, one for the number of words\n",
    "# in each chunk, and one for the overlap\n",
    "\n",
    "def flatten_and_overlap(docs, window_size=100, overlap=25):\n",
    "    \n",
    "    # create the list of overlapping documents\n",
    "    new_list_of_documents = []\n",
    "    \n",
    "    # flatten everything into one string\n",
    "    flat = \"\"\n",
    "    for doc in docs:\n",
    "        flat += doc\n",
    "    \n",
    "    # split into words\n",
    "    flat = flat.split()\n",
    "\n",
    "    # create chunks of 100 words\n",
    "    high = window_size\n",
    "    while high < len(flat):\n",
    "        low = high - window_size\n",
    "        new_list_of_documents.append(flat[low:high])\n",
    "        high += overlap\n",
    "    return new_list_of_documents\n",
    "\n",
    "chunks = flatten_and_overlap(docs)"
   ]
  },
  {
   "cell_type": "code",
   "execution_count": 39,
   "metadata": {},
   "outputs": [],
   "source": [
    "# create a for loop to double check that each chunk has \n",
    "# a length of 100\n",
    "# Optional: use assert to do this check\n",
    "for chunk in chunks: \n",
    "    assert(len(chunk) == 100)"
   ]
  },
  {
   "cell_type": "markdown",
   "metadata": {},
   "source": [
    "# WEEK 6 - VECTOR MANIPULATION"
   ]
  },
  {
   "cell_type": "markdown",
   "metadata": {},
   "source": [
    "## Step 5 - Create a word by document matrix"
   ]
  },
  {
   "cell_type": "code",
   "execution_count": 40,
   "metadata": {},
   "outputs": [
    {
     "name": "stdout",
     "output_type": "stream",
     "text": [
      "<class 'pandas.core.frame.DataFrame'>\n",
      "Int64Index: 2219 entries, 0 to 2218\n",
      "Columns: 5676 entries, \u0000\u0010\u0000 to 𝟎𝟒𝟕\n",
      "dtypes: int64(5676)\n",
      "memory usage: 96.1 MB\n"
     ]
    }
   ],
   "source": [
    "# 1) create an empty dataframe using pandas\n",
    "# the number of rows should be the number of chunks we have\n",
    "# the number of columns should be size of the vocabulary\n",
    "import pandas as pd\n",
    "df = pd.DataFrame(0, index=np.arange(len(chunks)), columns=vocabulary)\n",
    "df.info()"
   ]
  },
  {
   "cell_type": "code",
   "execution_count": 41,
   "metadata": {},
   "outputs": [
    {
     "data": {
      "text/plain": [
       "0"
      ]
     },
     "execution_count": 41,
     "metadata": {},
     "output_type": "execute_result"
    }
   ],
   "source": [
    "# 4) Putting it together: create a function that takes a list of documents\n",
    "# and a vocabulary as arguments, and returns a dataframe with the counts\n",
    "# of words: \n",
    "def docs_by_words_df(chunks, vocabulary):\n",
    "    df = pd.DataFrame(0, index=np.arange(len(chunks)), columns=vocabulary)\n",
    "    \n",
    "    # fill out the matrix with counts\n",
    "    for i,chunk in enumerate(chunks):\n",
    "        for word in chunk:\n",
    "            if word in df.columns: \n",
    "                df.loc[i,word] += 1\n",
    "            \n",
    "    return df\n",
    "\n",
    "# call the function and check that the resulting dataframe is correct\n",
    "df = docs_by_words_df(chunks, vocabulary)\n",
    "df.loc[0,'wandering']"
   ]
  },
  {
   "cell_type": "markdown",
   "metadata": {},
   "source": [
    "## Step 6 - Weight word frequency"
   ]
  },
  {
   "cell_type": "code",
   "execution_count": 42,
   "metadata": {},
   "outputs": [],
   "source": [
    "# 5) create a function that adds one to the current cell and takes its log\n",
    "# IF the value in the cell is not zero\n",
    "def one_plus_log(cell):\n",
    "    if cell != 0: \n",
    "        return 1 + math.log(cell)\n",
    "    else:\n",
    "        return 0"
   ]
  },
  {
   "cell_type": "code",
   "execution_count": 43,
   "metadata": {},
   "outputs": [],
   "source": [
    "# 6) use the \"applymap\" function of the dataframe to apply the function \n",
    "# above to each cell of the table\n",
    "df_log = df.applymap(one_plus_log)"
   ]
  },
  {
   "cell_type": "code",
   "execution_count": 44,
   "metadata": {},
   "outputs": [],
   "source": [
    "def one_plus_log_mat(df):\n",
    "    df = df.applymap(one_plus_log)\n",
    "    return df.values"
   ]
  },
  {
   "cell_type": "code",
   "execution_count": 45,
   "metadata": {},
   "outputs": [
    {
     "name": "stdout",
     "output_type": "stream",
     "text": [
      "before one + log:  0\n"
     ]
    },
    {
     "ename": "ValueError",
     "evalue": "math domain error",
     "output_type": "error",
     "traceback": [
      "\u001b[0;31m---------------------------------------------------------------------------\u001b[0m",
      "\u001b[0;31mValueError\u001b[0m                                Traceback (most recent call last)",
      "\u001b[0;32m<ipython-input-45-477de5973d82>\u001b[0m in \u001b[0;36m<module>\u001b[0;34m\u001b[0m\n\u001b[1;32m      2\u001b[0m \u001b[0;31m# print the value before and after applying the function above\u001b[0m\u001b[0;34m\u001b[0m\u001b[0;34m\u001b[0m\u001b[0;34m\u001b[0m\u001b[0m\n\u001b[1;32m      3\u001b[0m \u001b[0mprint\u001b[0m\u001b[0;34m(\u001b[0m\u001b[0;34m\"before one + log: \"\u001b[0m\u001b[0;34m,\u001b[0m \u001b[0mdf\u001b[0m\u001b[0;34m.\u001b[0m\u001b[0mloc\u001b[0m\u001b[0;34m[\u001b[0m\u001b[0;36m0\u001b[0m\u001b[0;34m,\u001b[0m\u001b[0;34m'wandering'\u001b[0m\u001b[0;34m]\u001b[0m\u001b[0;34m)\u001b[0m\u001b[0;34m\u001b[0m\u001b[0;34m\u001b[0m\u001b[0m\n\u001b[0;32m----> 4\u001b[0;31m \u001b[0mprint\u001b[0m\u001b[0;34m(\u001b[0m\u001b[0;34m\"after one + log: \"\u001b[0m\u001b[0;34m,\u001b[0m \u001b[0;36m1\u001b[0m \u001b[0;34m+\u001b[0m \u001b[0mmath\u001b[0m\u001b[0;34m.\u001b[0m\u001b[0mlog\u001b[0m\u001b[0;34m(\u001b[0m\u001b[0mdf\u001b[0m\u001b[0;34m.\u001b[0m\u001b[0mloc\u001b[0m\u001b[0;34m[\u001b[0m\u001b[0;36m0\u001b[0m\u001b[0;34m,\u001b[0m\u001b[0;34m'wandering'\u001b[0m\u001b[0;34m]\u001b[0m\u001b[0;34m)\u001b[0m\u001b[0;34m)\u001b[0m\u001b[0;34m\u001b[0m\u001b[0;34m\u001b[0m\u001b[0m\n\u001b[0m\u001b[1;32m      5\u001b[0m \u001b[0mprint\u001b[0m\u001b[0;34m(\u001b[0m\u001b[0;34m\"Value in the dataframe: \"\u001b[0m\u001b[0;34m,\u001b[0m \u001b[0mdf_log\u001b[0m\u001b[0;34m.\u001b[0m\u001b[0mloc\u001b[0m\u001b[0;34m[\u001b[0m\u001b[0;36m0\u001b[0m\u001b[0;34m,\u001b[0m\u001b[0;34m'wandering'\u001b[0m\u001b[0;34m]\u001b[0m\u001b[0;34m)\u001b[0m\u001b[0;34m\u001b[0m\u001b[0;34m\u001b[0m\u001b[0m\n",
      "\u001b[0;31mValueError\u001b[0m: math domain error"
     ]
    }
   ],
   "source": [
    "# 7) check that the numbers in the resulting matrix look accurate;\n",
    "# print the value before and after applying the function above\n",
    "print(\"before one + log: \", df.loc[0,'wandering'])\n",
    "print(\"after one + log: \", 1 + math.log(df.loc[0,'wandering']))\n",
    "print(\"Value in the dataframe: \", df_log.loc[0,'wandering'])"
   ]
  },
  {
   "cell_type": "markdown",
   "metadata": {},
   "source": [
    "## Step 7 - Matrix normalization"
   ]
  },
  {
   "cell_type": "code",
   "execution_count": null,
   "metadata": {},
   "outputs": [],
   "source": [
    "# 8) look at the image below; why do you think that we need to normalize our \n",
    "# data before clustering in this particular case? "
   ]
  },
  {
   "cell_type": "markdown",
   "metadata": {},
   "source": [
    "<img src=\"https://i.stack.imgur.com/N2unM.png\" />"
   ]
  },
  {
   "cell_type": "markdown",
   "metadata": {},
   "source": [
    "In general, it's common practice to normalize your data before clustering - so that variables are comparable."
   ]
  },
  {
   "cell_type": "code",
   "execution_count": null,
   "metadata": {},
   "outputs": [],
   "source": [
    "# 9) describe how the min-max normalization works:"
   ]
  },
  {
   "cell_type": "markdown",
   "metadata": {},
   "source": [
    "<img src=\"https://docs.microsoft.com/en-us/azure/machine-learning/studio-module-reference/media/aml-normalization-minmax.png\" />"
   ]
  },
  {
   "cell_type": "code",
   "execution_count": null,
   "metadata": {},
   "outputs": [],
   "source": [
    "# 10) describe how normalizing using a z-score works:"
   ]
  },
  {
   "cell_type": "markdown",
   "metadata": {},
   "source": [
    "<img src=\"https://cdn-images-1.medium.com/max/1600/1*13XKCXQc7eabfZbRzkvGvA.gif\"/>"
   ]
  },
  {
   "cell_type": "code",
   "execution_count": null,
   "metadata": {},
   "outputs": [],
   "source": [
    "# 11) describe how normalizing to unit norm works"
   ]
  },
  {
   "cell_type": "markdown",
   "metadata": {},
   "source": [
    "Resources: \n",
    "* https://scikit-learn.org/stable/modules/generated/sklearn.preprocessing.Normalizer.html#sklearn.preprocessing.Normalizer\n",
    "* http://mathworld.wolfram.com/NormalVector.html"
   ]
  },
  {
   "cell_type": "markdown",
   "metadata": {},
   "source": [
    "We are going to work with some pre-made normalization functions from sklearn (feel free to skim this page):\n",
    "* https://scikit-learn.org/stable/modules/classes.html#module-sklearn.preprocessing"
   ]
  },
  {
   "cell_type": "code",
   "execution_count": null,
   "metadata": {},
   "outputs": [],
   "source": [
    "# 12) since we are working with vectors, apply the Normalizer from \n",
    "# sklearn.preprocessing to our dataframe. Print a few values \n",
    "# before and after to make sure you've applied the normalization\n",
    "from sklearn.preprocessing import Normalizer\n",
    "\n",
    "scaler = Normalizer()\n",
    "df_log[df_log.columns] = scaler.fit_transform(df_log[df_log.columns])\n",
    "df_log[df_log.columns[500:600]]"
   ]
  },
  {
   "cell_type": "code",
   "execution_count": null,
   "metadata": {},
   "outputs": [],
   "source": [
    "# 13) create a function that takes a dataframe as argument and where a second\n",
    "# argument is the type of normalization (MinMaxScaler, Normalizer, StandardScaler)\n",
    "# and returns the normalized dataframe\n",
    "from sklearn.preprocessing import MinMaxScaler, Normalizer, StandardScaler\n",
    "\n",
    "def normalize_df(df, method='Normalizer'):\n",
    "    \n",
    "    # choose the normalization strategy\n",
    "    scaler = None\n",
    "    if method == 'Normalizer': scaler = Normalizer()\n",
    "    if method == 'MinMaxScaler': scaler = MinMaxScaler()\n",
    "    if method == 'StandardScaler': scaler = StandardScaler()\n",
    "        \n",
    "    # apply the normalization\n",
    "    if scaler != None:\n",
    "        df[df.columns] = scaler.fit_transform(df[df.columns])\n",
    "\n",
    "    # return the resulting dataframe\n",
    "    return df"
   ]
  },
  {
   "cell_type": "markdown",
   "metadata": {},
   "source": [
    "## Step 8 - Deviation Vectors"
   ]
  },
  {
   "cell_type": "markdown",
   "metadata": {},
   "source": [
    "<img src=\"https://www.dropbox.com/s/9f73r7pk7bi7vh9/deviation_vectors.png?dl=1\" />"
   ]
  },
  {
   "cell_type": "code",
   "execution_count": null,
   "metadata": {},
   "outputs": [],
   "source": [
    "# 14) compute the sum of the vectors\n",
    "v_sum = np.sum(df_log.values, axis=0)"
   ]
  },
  {
   "cell_type": "code",
   "execution_count": null,
   "metadata": {},
   "outputs": [],
   "source": [
    "# 15) normalize the vector (find its average)\n",
    "def vector_length(u):\n",
    "    return np.sqrt(np.dot(u, u))\n",
    "\n",
    "def length_norm(u):\n",
    "    return u / vector_length(u)\n",
    "\n",
    "v_avg = length_norm(v_sum)"
   ]
  },
  {
   "cell_type": "code",
   "execution_count": null,
   "metadata": {},
   "outputs": [],
   "source": [
    "# 16) take each vector and subtract its components along v_avg\n",
    "\n",
    "matrix = df_log.values\n",
    "\n",
    "for row in range(df_log.shape[0]):\n",
    "\n",
    "    # this is one vector (row\n",
    "    v_i = matrix[row,:]\n",
    "\n",
    "    # we subtract its component along v_average\n",
    "    scalar = np.dot(v_i,v_avg)\n",
    "    sub = v_avg * scalar\n",
    "\n",
    "    # we replace the row by the deviation vector\n",
    "    matrix[row,:] = length_norm(v_i - sub)"
   ]
  },
  {
   "cell_type": "code",
   "execution_count": null,
   "metadata": {},
   "outputs": [],
   "source": [
    "# 17) put the code above in a function that takes in a dataframe as an argument\n",
    "# and computes deviation vectors of each row (=document)\n",
    "def vector_length(u):\n",
    "    return np.sqrt(np.dot(u, u))\n",
    "\n",
    "def length_norm(u):\n",
    "    return u / vector_length(u)\n",
    "\n",
    "def transform_deviation_vectors(df):\n",
    "    \n",
    "    # get the numpy matrix from the df\n",
    "    matrix = df.values\n",
    "    \n",
    "    # compute the sum of the vectors\n",
    "    v_sum = np.sum(matrix, axis=0)\n",
    "    \n",
    "    # normalize this vector (find its average)\n",
    "    v_avg = length_norm(v_sum)\n",
    "    \n",
    "    # we iterate through each vector\n",
    "    for row in range(df_log.shape[0]):\n",
    "        \n",
    "        # this is one vector (row\n",
    "        v_i = matrix[row,:]\n",
    "        \n",
    "        # we subtract its component along v_average\n",
    "        scalar = np.dot(v_i,v_avg)\n",
    "        sub = v_avg * scalar\n",
    "        \n",
    "        # we replace the row by the deviation vector\n",
    "        matrix[row,:] = length_norm(v_i - sub)\n",
    "    \n",
    "    return df"
   ]
  },
  {
   "cell_type": "code",
   "execution_count": null,
   "metadata": {},
   "outputs": [],
   "source": [
    "df = transform_deviation_vectors(df_log)"
   ]
  },
  {
   "cell_type": "markdown",
   "metadata": {},
   "source": [
    "# WEEK 7 - CLUSTERING"
   ]
  },
  {
   "cell_type": "markdown",
   "metadata": {},
   "source": [
    "## Step 9 - Clustering"
   ]
  },
  {
   "cell_type": "markdown",
   "metadata": {},
   "source": [
    "### Figuring out how many clusters we should pick"
   ]
  },
  {
   "cell_type": "markdown",
   "metadata": {},
   "source": [
    "1) Plot the inertia of kmeans using this example from datacamp: \n",
    "* https://campus.datacamp.com/courses/unsupervised-learning-in-python/clustering-for-dataset-exploration?ex=6"
   ]
  },
  {
   "cell_type": "code",
   "execution_count": null,
   "metadata": {},
   "outputs": [],
   "source": [
    "# 1a) create a list of inertia values for k 1-10\n",
    "from sklearn.cluster import KMeans\n",
    "\n",
    "ks = list(range(1, 10))\n",
    "inertias = []\n",
    "\n",
    "for k in ks:\n",
    "    \n",
    "    # Create a KMeans instance with k clusters: model\n",
    "    kmeans = KMeans(n_clusters=k, max_iter=1000)\n",
    "    \n",
    "    # Fit model to samples\n",
    "    kmeans.fit(df.values)\n",
    "    \n",
    "    # Append the inertia to the list of inertias\n",
    "    inertias.append(kmeans.inertia_)"
   ]
  },
  {
   "cell_type": "code",
   "execution_count": null,
   "metadata": {},
   "outputs": [],
   "source": [
    "# 1b) plot the inertia values using matplotlib\n",
    "import matplotlib.pyplot as plt\n",
    "\n",
    "%matplotlib inline\n",
    "\n",
    "# Plot ks vs inertias\n",
    "plt.plot(ks, inertias, '-o')\n",
    "plt.xlabel('number of clusters, k')\n",
    "plt.ylabel('inertia')\n",
    "plt.xticks(ks)\n",
    "plt.show()"
   ]
  },
  {
   "cell_type": "markdown",
   "metadata": {},
   "source": [
    "1c) What can you conclude from the elbow method?"
   ]
  },
  {
   "cell_type": "markdown",
   "metadata": {},
   "source": [
    "2) Visualize your data using T-SNE\n",
    "* https://campus.datacamp.com/courses/unsupervised-learning-in-python/visualization-with-hierarchical-clustering-and-t-sne?ex=11\n",
    "* https://www.datacamp.com/community/tutorials/introduction-t-sne\n"
   ]
  },
  {
   "cell_type": "code",
   "execution_count": null,
   "metadata": {},
   "outputs": [],
   "source": [
    "# 2a) plot the T-SNE graph using a learning rate of 200\n",
    "from sklearn.manifold import TSNE\n",
    "\n",
    "# Create a TSNE instance: model\n",
    "model = TSNE(learning_rate=200)\n",
    "\n",
    "# Apply fit_transform to samples: tsne_features\n",
    "tsne_features = model.fit_transform(df.values)\n",
    "\n",
    "# Select the 0th feature: xs\n",
    "xs = tsne_features[:,0]\n",
    "\n",
    "# Select the 1st feature: ys\n",
    "ys = tsne_features[:,1]\n",
    "\n",
    "# Scatter plot\n",
    "plt.scatter(xs,ys)\n",
    "plt.show()"
   ]
  },
  {
   "cell_type": "markdown",
   "metadata": {},
   "source": [
    "2b) What can you conclude from T-SNE?"
   ]
  },
  {
   "cell_type": "markdown",
   "metadata": {},
   "source": [
    "Note: T-SNE is great, but there is also some controversy on how much you should trust this algorithm:\n",
    "* [Shortcomings of T-SNE](https://stats.stackexchange.com/questions/270391/should-dimensionality-reduction-for-visualization-be-considered-a-closed-probl)\n",
    "* [Limitations of T-SNE](https://stats.stackexchange.com/questions/263539/clustering-on-the-output-of-t-sne)"
   ]
  },
  {
   "cell_type": "markdown",
   "metadata": {},
   "source": [
    "### Kmeans"
   ]
  },
  {
   "cell_type": "code",
   "execution_count": 67,
   "metadata": {},
   "outputs": [
    {
     "name": "stdout",
     "output_type": "stream",
     "text": [
      "CLUSTER 1: parlance, restrict, illstructuredness, lua, producing, intractable, scripts, threaten, via, obstacles, \n",
      "CLUSTER 2: statistically, attempts, objectives, objective, found, gameplay, level, game, replay, students, \n",
      "CLUSTER 3: linear, space, encoders, connections, decoder, networks, auto, encoder, network, parametrized, \n",
      "CLUSTER 4: reading, tutoring, prompts, content, whether, however, related, student, students, learning, \n",
      "CLUSTER 5: model, figure, set, method, data, problem, time, different, using, two, \n",
      "CLUSTER 6: keys, jack, headphone, hardware, web, program, file, checkboxes, double, scrolling, \n",
      "CLUSTER 7: basic, clustering, answers, measures, pearson, similarities, items, similarity, data, item, \n",
      "CLUSTER 8: preferences, recommending, moocs, recommender, recommendations, sequence, new, recommendation, drifting, sequential, \n",
      "CLUSTER 9: matter, algorithms, subject, refers, idf, testing, vector, svm, machine, questions, \n",
      "CLUSTER 10: recall, notable, generalizability, trained, dataset, demonstrated, text, film, scientific, narrative, \n"
     ]
    }
   ],
   "source": [
    "# 3a) apply k-means to our data with k=10 and print the first 10 words\n",
    "# that are the most associated with each cluster centroids\n",
    "# Hint: look at the cluster_centers_ of the KMeans object to find the centroids\n",
    "import collections\n",
    "kmeans_obj = KMeans(n_clusters=10, max_iter=1000).fit(df.values)\n",
    "\n",
    "n_words = 10\n",
    "top_words = collections.defaultdict(lambda: [])\n",
    "\n",
    "# iterate through each cluster\n",
    "for n in range(kmeans_obj.n_clusters):\n",
    "\n",
    "    print('CLUSTER ' + str(n+1) + ': ', end='')\n",
    "\n",
    "    # get the cluster centers\n",
    "    arr = kmeans_obj.cluster_centers_[n]\n",
    "\n",
    "    # sorts the array and keep the last n words\n",
    "    indices = arr.argsort()[-n_words:]\n",
    "\n",
    "    # add the words to the list of words\n",
    "    for i in indices:\n",
    "        print(vocabulary[i], end=', ')\n",
    "        top_words[n].append(vocabulary[i])\n",
    "        \n",
    "    print('')"
   ]
  },
  {
   "cell_type": "markdown",
   "metadata": {},
   "source": [
    "3b) interpret the cluster above; do they make sense to you?\n",
    "    1. latent models of students' knowledge and engagement\n",
    "    2. math performance / learning of students\n",
    "    3. semantic models of students learning\n",
    "    4. models to measure the similarity between items (of a test?)\n",
    "    5. models to predict students' learning using data\n",
    "    6. matrix factorization / models to predict grades during term\n",
    "    7. experiments on students' emotions, esteem, view of intelligence (?)\n",
    "    8. metatutor for slr learning\n",
    "    9. classification models to predict students' performance\n",
    "    10. models to estimate students' learning when solving the game foldit"
   ]
  },
  {
   "cell_type": "markdown",
   "metadata": {},
   "source": [
    "### Hierarchical clustering"
   ]
  },
  {
   "cell_type": "markdown",
   "metadata": {},
   "source": [
    "4) use hierarchical clustering on the data; feel free to refer to the datacamp lesson below: \n",
    "* https://campus.datacamp.com/courses/unsupervised-learning-in-python/visualization-with-hierarchical-clustering-and-t-sne?ex=3"
   ]
  },
  {
   "cell_type": "code",
   "execution_count": 48,
   "metadata": {},
   "outputs": [
    {
     "data": {
      "text/plain": [
       "<Figure size 640x480 with 1 Axes>"
      ]
     },
     "metadata": {},
     "output_type": "display_data"
    }
   ],
   "source": [
    "#4a) plot the dendogram using the link above (method = complete)\n",
    "from scipy.cluster.hierarchy import linkage, dendrogram\n",
    "import matplotlib.pyplot as plt\n",
    "\n",
    "# Calculate the linkage: mergings\n",
    "mergings = linkage(df.values, method='complete', )\n",
    "\n",
    "# Plot the dendrogram, using varieties as labels\n",
    "dendrogram(mergings,\n",
    "           labels=df.columns,\n",
    "           leaf_rotation=90,\n",
    "           leaf_font_size=6,\n",
    ")\n",
    "plt.show()"
   ]
  },
  {
   "cell_type": "markdown",
   "metadata": {},
   "source": [
    "4b) was the dendodram useful?"
   ]
  },
  {
   "cell_type": "code",
   "execution_count": 49,
   "metadata": {},
   "outputs": [
    {
     "name": "stdout",
     "output_type": "stream",
     "text": [
      "Number of points: 2219\n"
     ]
    }
   ],
   "source": [
    "#4c) we are going to use agglomerative clustering here \n",
    "# from the sklean library \n",
    "from sklearn.cluster import AgglomerativeClustering\n",
    "\n",
    "ward = AgglomerativeClustering(n_clusters=10, linkage='ward').fit(df.values)\n",
    "label = ward.labels_\n",
    "\n",
    "print(\"Number of points: %i\" % label.size)"
   ]
  },
  {
   "cell_type": "code",
   "execution_count": 50,
   "metadata": {
    "scrolled": true
   },
   "outputs": [
    {
     "name": "stdout",
     "output_type": "stream",
     "text": [
      "(10, 5676)\n"
     ]
    }
   ],
   "source": [
    "# 4d) compute the center of the cluster\n",
    "# unfortunately sklearn doesn't provide you with the centroids, but you can use the link below:\n",
    "# https://scikit-learn.org/stable/modules/generated/sklearn.neighbors.NearestCentroid.html\n",
    "from sklearn.neighbors.nearest_centroid import NearestCentroid\n",
    "import numpy as np\n",
    "\n",
    "clf = NearestCentroid()\n",
    "clf.fit(df.values, label)\n",
    "\n",
    "print(clf.centroids_.shape)"
   ]
  },
  {
   "cell_type": "code",
   "execution_count": 51,
   "metadata": {},
   "outputs": [
    {
     "name": "stdout",
     "output_type": "stream",
     "text": [
      "CLUSTER 1: messages, replay, group, scores, topic, test, level, student, learning, students, \n",
      "CLUSTER 2: students, using, matrix, recommendation, methods, context, task, student, model, course, \n",
      "CLUSTER 3: scientific, model, film, dataset, performance, features, training, set, feature, data, \n",
      "CLUSTER 4: scales, score, words, students, based, osgood, models, semantic, model, word, \n",
      "CLUSTER 5: based, course, learners, question, video, engagement, model, learner, questions, learning, \n",
      "CLUSTER 6: work, data, patterns, behavior, solver, solution, problem, solving, foldit, solvers, \n",
      "CLUSTER 7: condition, attention, learning, page, questions, reading, participants, intervention, wandering, mind, \n",
      "CLUSTER 8: prompt, student, subgoal, srl, metatutor, page, students, learning, compliance, prompts, \n",
      "CLUSTER 9: similarities, approach, measure, pearson, used, measures, items, item, similarity, data, \n",
      "CLUSTER 10: models, rate, students, model, parameter, iafm, data, learning, estimates, student, \n"
     ]
    }
   ],
   "source": [
    "# 4e) print the top 10 words for each cluster centroid\n",
    "def visualize_clusters(df, n_clusters, centroids, n_words=10, printed=True):   \n",
    "    # try to get the most informative words of each cluster\n",
    "    words = {}\n",
    "    vocabulary = df.columns\n",
    "    for n in range(n_clusters):\n",
    "        words[n] = []\n",
    "        if printed: print('CLUSTER ' + str(n+1) + ': ', end='')\n",
    "        arr = centroids[n]\n",
    "        indices = arr.argsort()[-n_words:]\n",
    "        for i in indices:\n",
    "            if printed: print(vocabulary[i], end=', '),\n",
    "            words[n].append(vocabulary[i])\n",
    "        print('')\n",
    "    return words\n",
    "\n",
    "top_words = visualize_clusters(df, clf.centroids_.shape[0], clf.centroids_)"
   ]
  },
  {
   "cell_type": "markdown",
   "metadata": {},
   "source": [
    "4f) interpret the cluster above; do they make sense to you?"
   ]
  },
  {
   "cell_type": "markdown",
   "metadata": {},
   "source": [
    "### DBScan "
   ]
  },
  {
   "cell_type": "markdown",
   "metadata": {},
   "source": [
    "5) Use DBscan (with epsilon=5, min_samples=10) to cluster your data"
   ]
  },
  {
   "cell_type": "code",
   "execution_count": 52,
   "metadata": {},
   "outputs": [
    {
     "name": "stdout",
     "output_type": "stream",
     "text": [
      "Number of points: 2219\n"
     ]
    }
   ],
   "source": [
    "# 5a) apply DBScan on your data\n",
    "from sklearn.cluster import DBSCAN\n",
    "\n",
    "dbscan = DBSCAN(eps=2, min_samples=3).fit(df.values)\n",
    "\n",
    "labels = dbscan.labels_\n",
    "\n",
    "print(\"Number of points: %i\" % label.size)"
   ]
  },
  {
   "cell_type": "code",
   "execution_count": 53,
   "metadata": {},
   "outputs": [
    {
     "name": "stdout",
     "output_type": "stream",
     "text": [
      "(10, 5676)\n"
     ]
    }
   ],
   "source": [
    "# 5b) find the cluster centroid (using the code from question 4d)\n",
    "clf = NearestCentroid()\n",
    "clf.fit(df.values, label)\n",
    "\n",
    "print(clf.centroids_.shape)"
   ]
  },
  {
   "cell_type": "code",
   "execution_count": 54,
   "metadata": {},
   "outputs": [
    {
     "name": "stdout",
     "output_type": "stream",
     "text": [
      "CLUSTER 1: messages, replay, group, scores, topic, test, level, student, learning, students, \n",
      "CLUSTER 2: students, using, matrix, recommendation, methods, context, task, student, model, course, \n",
      "CLUSTER 3: scientific, model, film, dataset, performance, features, training, set, feature, data, \n",
      "CLUSTER 4: scales, score, words, students, based, osgood, models, semantic, model, word, \n",
      "CLUSTER 5: based, course, learners, question, video, engagement, model, learner, questions, learning, \n",
      "CLUSTER 6: work, data, patterns, behavior, solver, solution, problem, solving, foldit, solvers, \n",
      "CLUSTER 7: condition, attention, learning, page, questions, reading, participants, intervention, wandering, mind, \n",
      "CLUSTER 8: prompt, student, subgoal, srl, metatutor, page, students, learning, compliance, prompts, \n",
      "CLUSTER 9: similarities, approach, measure, pearson, used, measures, items, item, similarity, data, \n",
      "CLUSTER 10: models, rate, students, model, parameter, iafm, data, learning, estimates, student, \n"
     ]
    }
   ],
   "source": [
    "# 5c) print the top ten words\n",
    "top_words = visualize_clusters(df, clf.centroids_.shape[0], clf.centroids_)"
   ]
  },
  {
   "cell_type": "markdown",
   "metadata": {},
   "source": [
    "5d) How many clusters do you have? Do they make sense to you? Interpret them below. "
   ]
  },
  {
   "cell_type": "markdown",
   "metadata": {},
   "source": [
    "### NMF"
   ]
  },
  {
   "cell_type": "markdown",
   "metadata": {},
   "source": [
    "6) Use NMF to find topics in our dataset\n",
    "* https://campus.datacamp.com/courses/unsupervised-learning-in-python/discovering-interpretable-features?ex=3"
   ]
  },
  {
   "cell_type": "code",
   "execution_count": 55,
   "metadata": {},
   "outputs": [
    {
     "name": "stderr",
     "output_type": "stream",
     "text": [
      "/Users/paulina/anaconda3/lib/python3.7/site-packages/sklearn/preprocessing/data.py:323: DataConversionWarning: Data with input dtype int64 were all converted to float64 by MinMaxScaler.\n",
      "  return self.partial_fit(X, y)\n"
     ]
    },
    {
     "name": "stdout",
     "output_type": "stream",
     "text": [
      "[[6.18342894e-02 8.55150504e-02 0.00000000e+00 8.84161537e-02\n",
      "  2.92362352e-02 1.25601739e-02]\n",
      " [4.30571418e-02 1.17021156e-01 1.53099745e-04 9.25484652e-02\n",
      "  5.44542114e-02 1.07745043e-02]\n",
      " [4.87106210e-02 1.26425009e-01 2.32995152e-02 7.54767874e-02\n",
      "  4.70995631e-02 1.62831100e-02]\n",
      " ...\n",
      " [1.52109630e-01 7.34314505e-02 0.00000000e+00 4.80649511e-03\n",
      "  3.86143382e-02 7.44560491e-03]\n",
      " [1.49025996e-01 7.24392438e-02 7.68439021e-03 1.03939266e-02\n",
      "  3.14178290e-02 1.90260967e-02]\n",
      " [1.70142828e-01 2.04333373e-02 0.00000000e+00 1.82085263e-02\n",
      "  6.71663742e-03 3.31266658e-02]]\n"
     ]
    }
   ],
   "source": [
    "# 6a) Use the code above to apply the NMF model\n",
    "from sklearn.preprocessing import MinMaxScaler\n",
    "\n",
    "scaler = MinMaxScaler()\n",
    "\n",
    "df[df.columns] = scaler.fit_transform(df[df.columns])\n",
    "\n",
    "# Import NMF\n",
    "from sklearn.decomposition import NMF\n",
    "\n",
    "# Create an NMF instance: model\n",
    "model = NMF(n_components=6)\n",
    "\n",
    "# Fit the model to articles\n",
    "model.fit(df.values)\n",
    "\n",
    "# Transform the articles: nmf_features\n",
    "nmf_features = model.transform(df.values)\n",
    "\n",
    "# Print the NMF features\n",
    "print(nmf_features)"
   ]
  },
  {
   "cell_type": "code",
   "execution_count": 56,
   "metadata": {},
   "outputs": [
    {
     "name": "stdout",
     "output_type": "stream",
     "text": [
      "data         1.017131\n",
      "using        0.987499\n",
      "two          0.758805\n",
      "method       0.737660\n",
      "used         0.703742\n",
      "different    0.692765\n",
      "item         0.670611\n",
      "set          0.632850\n",
      "figure       0.632837\n",
      "based        0.610054\n",
      "Name: 0, dtype: float64 \n",
      "\n",
      "prompts       1.063974\n",
      "compliance    0.747098\n",
      "metatutor     0.737625\n",
      "related       0.715023\n",
      "learning      0.667818\n",
      "foster        0.560621\n",
      "whether       0.481756\n",
      "prompt        0.476146\n",
      "found         0.460829\n",
      "specific      0.430426\n",
      "Name: 1, dtype: float64 \n",
      "\n",
      "solving     0.982628\n",
      "problem     0.924987\n",
      "foldit      0.793414\n",
      "behavior    0.696911\n",
      "solvers     0.622585\n",
      "broadly     0.518317\n",
      "patterns    0.507776\n",
      "work        0.483542\n",
      "ended       0.482097\n",
      "solution    0.471045\n",
      "Name: 2, dtype: float64 \n",
      "\n",
      "students       1.175390\n",
      "table          0.601675\n",
      "different      0.546701\n",
      "scores         0.509224\n",
      "two            0.476686\n",
      "pre            0.465478\n",
      "significant    0.457144\n",
      "found          0.432904\n",
      "upon           0.431972\n",
      "showed         0.420869\n",
      "Name: 3, dtype: float64 \n",
      "\n",
      "individualized    1.016715\n",
      "student           0.971700\n",
      "estimates         0.692903\n",
      "iafm              0.622657\n",
      "interpret         0.610581\n",
      "population        0.599006\n",
      "parameter         0.569357\n",
      "learning          0.531238\n",
      "reliable          0.513377\n",
      "especially        0.474423\n",
      "Name: 4, dtype: float64 \n",
      "\n",
      "reading         0.684066\n",
      "mind            0.605708\n",
      "text            0.603169\n",
      "wandering       0.570851\n",
      "film            0.567629\n",
      "demonstrated    0.536342\n",
      "detection       0.491908\n",
      "narrative       0.490001\n",
      "scientific      0.489357\n",
      "however         0.467253\n",
      "Name: 5, dtype: float64 \n",
      "\n"
     ]
    }
   ],
   "source": [
    "# 6b) print the top ten words of each component\n",
    "import pandas as pd\n",
    "\n",
    "# Create a DataFrame: components_df\n",
    "components_df = pd.DataFrame(model.components_, columns=df.columns)\n",
    "\n",
    "for i in range(6):\n",
    "\n",
    "    # Select row 3: component\n",
    "    component = components_df.iloc[i,:]\n",
    "\n",
    "    # Print result of nlargest\n",
    "    print(component.nlargest(n=10), '\\n')"
   ]
  },
  {
   "cell_type": "markdown",
   "metadata": {},
   "source": [
    "6c) Interpret the cluster above; how do they compare to kmeans, hierarchical clustering and DBscan?"
   ]
  },
  {
   "cell_type": "markdown",
   "metadata": {},
   "source": [
    "## Step 10 - Visualizing the results"
   ]
  },
  {
   "cell_type": "markdown",
   "metadata": {},
   "source": [
    "### Clustering our data"
   ]
  },
  {
   "cell_type": "code",
   "execution_count": 57,
   "metadata": {},
   "outputs": [],
   "source": [
    "# make sure you run the cells above (except the ones about clustering)\n",
    "# before you start working on the questions below"
   ]
  },
  {
   "cell_type": "code",
   "execution_count": 58,
   "metadata": {},
   "outputs": [],
   "source": [
    "# 1) use k-means to find 10 clusters on the dataframe we just loaded\n",
    "from sklearn.cluster import KMeans\n",
    "\n",
    "ks = list(range(1, 10))\n",
    "inertias = []\n",
    "\n",
    "for k in ks:\n",
    "    \n",
    "    # Create a KMeans instance with k clusters: model\n",
    "    kmeans = KMeans(n_clusters=k, max_iter=1000)\n",
    "    \n",
    "    # Fit model to samples\n",
    "    kmeans.fit(df.values)\n",
    "    \n",
    "    # Append the inertia to the list of inertias\n",
    "    inertias.append(kmeans.inertia_)"
   ]
  },
  {
   "cell_type": "code",
   "execution_count": 59,
   "metadata": {},
   "outputs": [],
   "source": [
    "# we are providing you with the function below, which returns the \n",
    "# top ten words from each cluster \n",
    "import collections\n",
    "\n",
    "def get_top_words(kmeans, centers, n_words=10):\n",
    "    \n",
    "    top_words = collections.defaultdict(lambda: [])\n",
    "\n",
    "    # iterate through each cluster\n",
    "    for n in range(kmeans.n_clusters):\n",
    "\n",
    "        # get the cluster centers\n",
    "        arr = centers[n]\n",
    "\n",
    "        # sorts the array and keep the last n words\n",
    "        indices = arr.argsort()[-n_words:]\n",
    "\n",
    "        # add the words to the list of words\n",
    "        for i in indices:\n",
    "            top_words[n].append(vocabulary[i])\n",
    "    \n",
    "    return top_words"
   ]
  },
  {
   "cell_type": "code",
   "execution_count": 60,
   "metadata": {},
   "outputs": [
    {
     "name": "stdout",
     "output_type": "stream",
     "text": [
      "defaultdict(<function get_top_words.<locals>.<lambda> at 0x125ee77b8>, {0: ['found', 'page', 'stay', 'foster', 'learning', 'prompt', 'related', 'metatutor', 'compliance', 'prompts'], 1: ['pre', 'used', 'characteristics', 'found', 'table', 'using', 'two', 'different', 'scores', 'students'], 2: ['entire', 'pedagogical', 'effective', 'defined', 'decisions', 'set', 'decision', 'induced', 'rules', 'weight'], 3: ['latent', 'term', 'program', 'student', 'programs', 'meaningful', 'course', 'grade', 'factorization', 'courses'], 4: ['conclusions', 'research', 'opinions', 'expressed', 'little', 'paper', 'work', 'introduction', 'tutoring', 'learning'], 5: ['pearson', 'approach', 'choice', 'yule', 'automatic', 'relations', 'guidelines', 'details', 'exact', 'item'], 6: ['adaptation', 'preferences', 'recommendations', 'recommending', 'methods', 'recommendation', 'new', 'moocs', 'sequential', 'drifting'], 7: ['results', 'first', 'however', 'time', 'learning', 'different', 'using', 'figure', 'two', 'data'], 8: ['appendix', 'iterations', 'complexity', 'dyads', 'k×ns', 'ncc', 'nitera', 'minimization', 'alternating', 'via']})\n"
     ]
    }
   ],
   "source": [
    "# 2) use the function above to get the top 10 words from each cluster\n",
    "\n",
    "topWords = get_top_words(kmeans, kmeans.cluster_centers_)\n",
    "\n",
    "print(topWords)\n",
    "\n"
   ]
  },
  {
   "cell_type": "code",
   "execution_count": 61,
   "metadata": {},
   "outputs": [
    {
     "name": "stdout",
     "output_type": "stream",
     "text": [
      "#1f77b4\n",
      "#ff7f0e\n",
      "#2ca02c\n",
      "#d62728\n",
      "#9467bd\n",
      "#8c564b\n",
      "#e377c2\n",
      "#7f7f7f\n",
      "#bcbd22\n",
      "#17becf\n"
     ]
    }
   ],
   "source": [
    "# 3) get ten colors from a bokeh palette\n",
    "# You can find the name of the palettes here: http://bokeh.pydata.org/en/latest/docs/reference/palettes.html\n",
    "# Here's how to import a palette: https://stackoverflow.com/questions/43757582/how-to-import-bokeh-palettes\n",
    "# use the palette called \"Category10\" and save a list of ten colors\n",
    "\n",
    "\n",
    "import bokeh.io\n",
    "import bokeh.models\n",
    "import bokeh.palettes\n",
    "import bokeh.plotting\n",
    "\n",
    "colors = bokeh.palettes.d3['Category10'][10]\n",
    "\n",
    "for i in colors:\n",
    "    print(i)\n",
    "\n",
    "\n",
    "\n"
   ]
  },
  {
   "cell_type": "code",
   "execution_count": 62,
   "metadata": {},
   "outputs": [],
   "source": [
    "# 4) use the example below to print the top ten words of each cluster\n",
    "# in a different color using the HTML function \n",
    "from IPython.core.display import HTML\n",
    "\n",
    "x = HTML(\"<p>Cluster\"+str(i)+\": <font color=#1f77b4'>Word 1, Word 2, Word 3, Word 4, etc.</font></p>\")\n",
    "\n"
   ]
  },
  {
   "cell_type": "code",
   "execution_count": 63,
   "metadata": {},
   "outputs": [
    {
     "data": {
      "text/html": [
       "<p>Cluster0: <font color='#1f77b4'>['found', 'page', 'stay', 'foster', 'learning', 'prompt', 'related', 'metatutor', 'compliance', 'prompts']</font></p><p>Cluster1: <font color='#ff7f0e'>['pre', 'used', 'characteristics', 'found', 'table', 'using', 'two', 'different', 'scores', 'students']</font></p><p>Cluster2: <font color='#2ca02c'>['entire', 'pedagogical', 'effective', 'defined', 'decisions', 'set', 'decision', 'induced', 'rules', 'weight']</font></p><p>Cluster3: <font color='#d62728'>['latent', 'term', 'program', 'student', 'programs', 'meaningful', 'course', 'grade', 'factorization', 'courses']</font></p><p>Cluster4: <font color='#9467bd'>['conclusions', 'research', 'opinions', 'expressed', 'little', 'paper', 'work', 'introduction', 'tutoring', 'learning']</font></p><p>Cluster5: <font color='#8c564b'>['pearson', 'approach', 'choice', 'yule', 'automatic', 'relations', 'guidelines', 'details', 'exact', 'item']</font></p><p>Cluster6: <font color='#e377c2'>['adaptation', 'preferences', 'recommendations', 'recommending', 'methods', 'recommendation', 'new', 'moocs', 'sequential', 'drifting']</font></p><p>Cluster7: <font color='#7f7f7f'>['results', 'first', 'however', 'time', 'learning', 'different', 'using', 'figure', 'two', 'data']</font></p><p>Cluster8: <font color='#bcbd22'>['appendix', 'iterations', 'complexity', 'dyads', 'k×ns', 'ncc', 'nitera', 'minimization', 'alternating', 'via']</font></p>"
      ],
      "text/plain": [
       "<IPython.core.display.HTML object>"
      ]
     },
     "execution_count": 63,
     "metadata": {},
     "output_type": "execute_result"
    }
   ],
   "source": [
    "# this is the output that you should get: \n",
    "\n",
    "clusterString = \"\"\n",
    "\n",
    "for i in range(9):\n",
    "    html_text = \"<p>Cluster\"+str(i)+\": <font color='\"+str(colors[i])+\"'>\"+str(topWords[i])+\"</font></p>\"\n",
    "    clusterString += html_text\n",
    "\n",
    "HTML(clusterString)\n",
    "         \n",
    "         \n",
    "#          topWords[i],\"</p.>\")\n",
    "    \n",
    "    "
   ]
  },
  {
   "cell_type": "markdown",
   "metadata": {},
   "source": [
    "### Create a visualization"
   ]
  },
  {
   "cell_type": "markdown",
   "metadata": {},
   "source": [
    "Our goal is to create the following visualization:\n",
    "<img src=\"https://www.dropbox.com/s/seftfrl4pcjua0o/Screenshot%202019-03-27%2017.05.58.png?raw=1\" />\n",
    "* each chunk is represented as a dot on the x-axis\n",
    "* the y-axis represents the cluster it has been assigned to\n",
    "* each dot is associated with the color of the cluster\n",
    "* each dot can be hovered to see the actual snippet of text"
   ]
  },
  {
   "cell_type": "markdown",
   "metadata": {},
   "source": [
    "To create our Bokeh visualization, we need to create a ColumnDataSource. We will make it from a dictionary first, and then convert it. The dictionary needs to contain the following information:\n",
    "* indices: a list of number from 0,1,2,3 ... until the number of chunks (2219) for the x-axis\n",
    "* chunk: the actual segment of text (we will display it on the visualization)\n",
    "* cluster: the cluster assigned to this chunk (used for the y-axis)\n",
    "* document: the id of the document this chunk is from (i.e., from 0 until 17)\n",
    "* palette: the color assigned to this cluster\n",
    "    \n",
    "IMPORTANT: the values of this dictionary should list of equal length (i.e., the number of chunks = 2219) for Bokeh to work with our dataset."
   ]
  },
  {
   "cell_type": "code",
   "execution_count": 69,
   "metadata": {},
   "outputs": [],
   "source": [
    "# 5) create a list of indices from zero to the number of chunks\n",
    "indices = []\n",
    "for i in range(len(chunks)):\n",
    "    indices.append(i)\n",
    "    \n",
    "# print(indices)\n",
    "\n",
    "# print(len(indices))"
   ]
  },
  {
   "cell_type": "code",
   "execution_count": 70,
   "metadata": {},
   "outputs": [],
   "source": [
    "# 6) create a list of chunks\n",
    "list_of_chunks = []\n",
    "\n",
    "for i in indices:\n",
    "    list_of_chunks.append(' '.join(chunks[i]))\n",
    "    \n",
    "# print(list_of_chunks)\n",
    "    \n"
   ]
  },
  {
   "cell_type": "code",
   "execution_count": 71,
   "metadata": {},
   "outputs": [],
   "source": [
    "# 7) retrieve the list of labels assigned to each chunk\n",
    "labels = []\n",
    "\n",
    "for i in indices:\n",
    "    labels.append(kmeans_obj.labels_[i])\n",
    "\n",
    "# print(len(indices))\n",
    "\n",
    "# print(len(indices))\n",
    "\n",
    "# print(labels)\n",
    "    \n"
   ]
  },
  {
   "cell_type": "code",
   "execution_count": 72,
   "metadata": {},
   "outputs": [],
   "source": [
    "# 8) create a list that assigns the corresponding cluster color to each chunk\n",
    "palette = []\n",
    "\n",
    "for i in indices:\n",
    "    c = labels[i]\n",
    "    palette.append(colors[c])\n",
    "    \n",
    "# print(palette)\n",
    "    "
   ]
  },
  {
   "cell_type": "code",
   "execution_count": 73,
   "metadata": {},
   "outputs": [],
   "source": [
    "# 9) retrieve which document each chunk corresponds to\n",
    "doc_id = []\n",
    "current_doc = 0\n",
    "next_doc = 1\n",
    "\n",
    "for chunk in list_of_chunks:\n",
    "    next_doc = current_doc+1\n",
    "    if next_doc == len(docs):\n",
    "        doc_id.append(current_doc)\n",
    "    else:\n",
    "        if chunk in docs[next_doc]:\n",
    "            current_doc+=1\n",
    "        doc_id.append(current_doc)\n",
    "        \n",
    "\n",
    "# print(doc_id)\n",
    "# print(len(doc_id))\n",
    "\n",
    "# print(len(list_of_chunks))\n",
    "    "
   ]
  },
  {
   "cell_type": "code",
   "execution_count": 74,
   "metadata": {},
   "outputs": [
    {
     "name": "stdout",
     "output_type": "stream",
     "text": [
      "2219\n",
      "2219\n",
      "2219\n",
      "2219\n",
      "2219\n"
     ]
    }
   ],
   "source": [
    "# 10) sanity check: each list should have the same length (2219)\n",
    "print(len(indices))\n",
    "print(len(list_of_chunks))\n",
    "print(len(labels))\n",
    "print(len(doc_id))\n",
    "print(len(palette))"
   ]
  },
  {
   "cell_type": "code",
   "execution_count": 75,
   "metadata": {},
   "outputs": [],
   "source": [
    "# 11) create a dictionary using the lists from above\n",
    "master = {'indices': indices,\n",
    "          'chunk': list_of_chunks, \n",
    "          'cluster': labels,\n",
    "          'document': doc_id, \n",
    "          'palette': palette }"
   ]
  },
  {
   "cell_type": "code",
   "execution_count": 76,
   "metadata": {},
   "outputs": [],
   "source": [
    "# 12) create a dataframe called master_df that converts \n",
    "# the dictionary into a pandas dataframe\n",
    "\n",
    "master_df = pd.DataFrame.from_dict(master)\n",
    "\n",
    "# master_df.head()\n",
    "\n",
    "\n",
    "# this is the output that you should get: "
   ]
  },
  {
   "cell_type": "code",
   "execution_count": 77,
   "metadata": {},
   "outputs": [],
   "source": [
    "# 13) create the plot using circles (don't worry about colors for now)\n",
    "# you should get the plot above, but with blue circles\n",
    "# Use this link as a starting point: https://campus.datacamp.com/courses/interactive-data-visualization-with-bokeh/basic-plotting-with-bokeh?ex=14\n",
    "from bokeh.plotting import ColumnDataSource, figure,show\n",
    "from bokeh.io import output_notebook, curdoc, output_file\n",
    "from bokeh.models import HoverTool, Select, Slider\n",
    "from bokeh.layouts import row, column\n",
    "\n",
    "# source = ColumnDataSource(master_df)\n",
    "\n",
    "# p = figure(tools='box_select',x_axis_label='indices',y_axis_label='document')\n",
    "\n",
    "# p.circle('indices','document', source=source, color='blue', size=8)\n",
    "\n",
    "# # Specify the name of the output file and show the result\n",
    "# output_file('output.html')\n",
    "# show(p)\n",
    "\n",
    "## Uncomment above for #13\n"
   ]
  },
  {
   "cell_type": "code",
   "execution_count": 78,
   "metadata": {},
   "outputs": [],
   "source": [
    "# 14) add colors to your plot (i.e., the color of the cluster)\n",
    "\n",
    "source = ColumnDataSource(master_df)\n",
    "\n",
    "p = figure(tools='box_select',x_axis_label='indices',y_axis_label='cluster')\n",
    "\n",
    "p.circle('indices','cluster', source=source, color='palette', size=8)\n",
    "\n",
    "# Specify the name of the output file and show the result\n",
    "output_file('output.html')\n",
    "show(p)\n"
   ]
  },
  {
   "cell_type": "code",
   "execution_count": 79,
   "metadata": {},
   "outputs": [],
   "source": [
    "# 15) add a hover tool that display the actual chunk of text\n",
    "\n",
    "hover = HoverTool(tooltips=[('chunk', '@chunk')],mode='vline')\n",
    "\n",
    "p.add_tools(hover)\n",
    "\n",
    "output_file('output.html')\n",
    "show(p)"
   ]
  },
  {
   "cell_type": "markdown",
   "metadata": {},
   "source": [
    "### Optional questions"
   ]
  },
  {
   "cell_type": "code",
   "execution_count": null,
   "metadata": {},
   "outputs": [],
   "source": [
    "# 16) create a slider that allows to slide through documents\n",
    "# https://github.com/bokeh/bokeh/blob/master/examples/howto/server_embed/notebook_embed.ipynb\n"
   ]
  },
  {
   "cell_type": "code",
   "execution_count": null,
   "metadata": {},
   "outputs": [],
   "source": [
    "# 17) create your own visualization! "
   ]
  },
  {
   "cell_type": "markdown",
   "metadata": {},
   "source": [
    "## Final Step - Putting it all together: "
   ]
  },
  {
   "cell_type": "code",
   "execution_count": null,
   "metadata": {},
   "outputs": [],
   "source": [
    "def visualize_clusters(results_clustering, top_words, vocabulary):\n",
    "    text = \"\"\n",
    "\n",
    "    for cluster, words in top_words.items(): \n",
    "        words = \" \".join(words)\n",
    "        color = colors[cluster]\n",
    "        text += \"<p>Cluster \"+str(cluster)+\": <font color='\"+color+\"'>\"+words+\"</font></p>\"\n",
    "\n",
    "    return text"
   ]
  },
  {
   "cell_type": "code",
   "execution_count": null,
   "metadata": {},
   "outputs": [],
   "source": [
    "# in python code, our goal is to recreate the steps above as functions\n",
    "# so that we can just one line to run topic modeling on a list of \n",
    "# documents: \n",
    "def ExtractTopicsVSM(documents, numTopics):\n",
    "    ''' this functions takes in a list of documents (strings), \n",
    "        runs topic modeling (as implemented by Sherin, 2013)\n",
    "        and returns the clustering results, the matrix used \n",
    "        for clustering a visualization '''\n",
    "    \n",
    "    # step 2: clean up the documents\n",
    "    documents = clean_list_of_documents(documents)\n",
    "    \n",
    "    # step 3: let's build the vocabulary of these docs\n",
    "    vocabulary = get_vocabulary(documents)\n",
    "    \n",
    "    # step 4: we build our list of 100-words overlapping fragments\n",
    "    documents = flatten_and_overlap(documents)\n",
    "    \n",
    "    # step 5: we convert the chunks into a matrix\n",
    "    df = docs_by_words_df(documents, vocabulary)\n",
    "    \n",
    "    # step 6: we weight the frequency of words (count = 1 + log(count))\n",
    "    df.values = one_plus_log_mat(df)\n",
    "    \n",
    "    # step 7: we normalize the matrix\n",
    "    df.values = normalize_df(df, method='Normalizer')\n",
    "    \n",
    "    # step 8: we compute deviatio vectors\n",
    "    df = transform_deviation_vectors(df)\n",
    "    \n",
    "    # step 9: we apply a clustering algorithm to find topics\n",
    "    results_clustering = KMeans(n_clusters=numTopics, max_iter=1000).fit(df.values)\n",
    "    \n",
    "    # step 10: we get the top words for each cluster\n",
    "    top_words = get_top_words(results_clustering, results_clustering.cluster_centers_)\n",
    "    \n",
    "    # step 11: we create a visualization for the topics\n",
    "    visualization = visualize_clusters(results_clustering, top_words, vocabulary)\n",
    "    \n",
    "    # finally, we return the clustering results, the matrix, and a visualization\n",
    "    return results_clustering, df, top_words, visualization"
   ]
  },
  {
   "cell_type": "code",
   "execution_count": null,
   "metadata": {},
   "outputs": [],
   "source": [
    "# we run the entire pipeline\n",
    "results_clustering, df, top_words, visualization = ExtractTopicsVSM(documents, 10)"
   ]
  },
  {
   "cell_type": "code",
   "execution_count": null,
   "metadata": {},
   "outputs": [],
   "source": [
    "# we print the resulting labels\n",
    "results_clustering.labels_"
   ]
  },
  {
   "cell_type": "code",
   "execution_count": null,
   "metadata": {},
   "outputs": [],
   "source": [
    "# we print the top words for each cluster\n",
    "for cluster,words in top_words.items():\n",
    "    print(\"Cluster: \", cluster, \", \".join(words))"
   ]
  },
  {
   "cell_type": "code",
   "execution_count": null,
   "metadata": {},
   "outputs": [],
   "source": [
    "# We print them with color\n",
    "HTML(visualization)"
   ]
  },
  {
   "cell_type": "code",
   "execution_count": null,
   "metadata": {},
   "outputs": [],
   "source": []
  }
 ],
 "metadata": {
  "kernelspec": {
   "display_name": "Python 3",
   "language": "python",
   "name": "python3"
  },
  "language_info": {
   "codemirror_mode": {
    "name": "ipython",
    "version": 3
   },
   "file_extension": ".py",
   "mimetype": "text/x-python",
   "name": "python",
   "nbconvert_exporter": "python",
   "pygments_lexer": "ipython3",
   "version": "3.7.1"
  },
  "toc": {
   "base_numbering": 1,
   "nav_menu": {},
   "number_sections": true,
   "sideBar": true,
   "skip_h1_title": false,
   "title_cell": "Table of Contents",
   "title_sidebar": "Contents",
   "toc_cell": false,
   "toc_position": {},
   "toc_section_display": true,
   "toc_window_display": false
  },
  "varInspector": {
   "cols": {
    "lenName": 16,
    "lenType": 16,
    "lenVar": 40
   },
   "kernels_config": {
    "python": {
     "delete_cmd_postfix": "",
     "delete_cmd_prefix": "del ",
     "library": "var_list.py",
     "varRefreshCmd": "print(var_dic_list())"
    },
    "r": {
     "delete_cmd_postfix": ") ",
     "delete_cmd_prefix": "rm(",
     "library": "var_list.r",
     "varRefreshCmd": "cat(var_dic_list()) "
    }
   },
   "types_to_exclude": [
    "module",
    "function",
    "builtin_function_or_method",
    "instance",
    "_Feature"
   ],
   "window_display": false
  }
 },
 "nbformat": 4,
 "nbformat_minor": 2
}
